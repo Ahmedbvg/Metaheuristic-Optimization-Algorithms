{
  "nbformat": 4,
  "nbformat_minor": 0,
  "metadata": {
    "colab": {
      "provenance": []
    },
    "kernelspec": {
      "name": "python3",
      "display_name": "Python 3"
    },
    "language_info": {
      "name": "python"
    },
    "widgets": {
      "application/vnd.jupyter.widget-state+json": {
        "e12b8d5bc5ad48b38c1ae1f136ff8018": {
          "model_module": "@jupyter-widgets/controls",
          "model_name": "VBoxModel",
          "model_module_version": "1.5.0",
          "state": {
            "_dom_classes": [],
            "_model_module": "@jupyter-widgets/controls",
            "_model_module_version": "1.5.0",
            "_model_name": "VBoxModel",
            "_view_count": null,
            "_view_module": "@jupyter-widgets/controls",
            "_view_module_version": "1.5.0",
            "_view_name": "VBoxView",
            "box_style": "",
            "children": [
              "IPY_MODEL_033db73d782646e2a947c7ab244de381",
              "IPY_MODEL_a1c23a97d9ad4c0c9d61ecd61108ab6e",
              "IPY_MODEL_da635f7aaa484ca2b0bfe33d22366233",
              "IPY_MODEL_29c43a43b9444b908d8776da4ac4afed",
              "IPY_MODEL_1fd30d2eb1c34c04a772193104d97f81",
              "IPY_MODEL_7413b802e4694c6e973b9583e78ece1f",
              "IPY_MODEL_397bf40c9f404a52863db5abf5667d44",
              "IPY_MODEL_cd0bb3a1115b4740a6f2444a9307a312"
            ],
            "layout": "IPY_MODEL_14575f51cd0c4ae3adb881f11226884d"
          }
        },
        "033db73d782646e2a947c7ab244de381": {
          "model_module": "@jupyter-widgets/controls",
          "model_name": "IntSliderModel",
          "model_module_version": "1.5.0",
          "state": {
            "_dom_classes": [],
            "_model_module": "@jupyter-widgets/controls",
            "_model_module_version": "1.5.0",
            "_model_name": "IntSliderModel",
            "_view_count": null,
            "_view_module": "@jupyter-widgets/controls",
            "_view_module_version": "1.5.0",
            "_view_name": "IntSliderView",
            "continuous_update": true,
            "description": "Swarm Size",
            "description_tooltip": null,
            "disabled": false,
            "layout": "IPY_MODEL_16cdc73f488244648b10a4525a938e09",
            "max": 50,
            "min": 2,
            "orientation": "horizontal",
            "readout": true,
            "readout_format": "d",
            "step": 1,
            "style": "IPY_MODEL_519d749b990140848d7a1771caecf748",
            "value": 10
          }
        },
        "a1c23a97d9ad4c0c9d61ecd61108ab6e": {
          "model_module": "@jupyter-widgets/controls",
          "model_name": "IntSliderModel",
          "model_module_version": "1.5.0",
          "state": {
            "_dom_classes": [],
            "_model_module": "@jupyter-widgets/controls",
            "_model_module_version": "1.5.0",
            "_model_name": "IntSliderModel",
            "_view_count": null,
            "_view_module": "@jupyter-widgets/controls",
            "_view_module_version": "1.5.0",
            "_view_name": "IntSliderView",
            "continuous_update": true,
            "description": "Max Iterations",
            "description_tooltip": null,
            "disabled": false,
            "layout": "IPY_MODEL_f06ac1fd4cc8423f8a03cefc692359c9",
            "max": 100,
            "min": 1,
            "orientation": "horizontal",
            "readout": true,
            "readout_format": "d",
            "step": 1,
            "style": "IPY_MODEL_75e69da0424242f0ba0a718c5457377a",
            "value": 20
          }
        },
        "da635f7aaa484ca2b0bfe33d22366233": {
          "model_module": "@jupyter-widgets/controls",
          "model_name": "FloatSliderModel",
          "model_module_version": "1.5.0",
          "state": {
            "_dom_classes": [],
            "_model_module": "@jupyter-widgets/controls",
            "_model_module_version": "1.5.0",
            "_model_name": "FloatSliderModel",
            "_view_count": null,
            "_view_module": "@jupyter-widgets/controls",
            "_view_module_version": "1.5.0",
            "_view_name": "FloatSliderView",
            "continuous_update": true,
            "description": "Inertia (w)",
            "description_tooltip": null,
            "disabled": false,
            "layout": "IPY_MODEL_81a09dd4b3014772a1e580e243a019fb",
            "max": 1,
            "min": 0.1,
            "orientation": "horizontal",
            "readout": true,
            "readout_format": ".2f",
            "step": 0.1,
            "style": "IPY_MODEL_7aa2875b964847ad8ef3dd6dd92dd767",
            "value": 0.5
          }
        },
        "29c43a43b9444b908d8776da4ac4afed": {
          "model_module": "@jupyter-widgets/controls",
          "model_name": "FloatSliderModel",
          "model_module_version": "1.5.0",
          "state": {
            "_dom_classes": [],
            "_model_module": "@jupyter-widgets/controls",
            "_model_module_version": "1.5.0",
            "_model_name": "FloatSliderModel",
            "_view_count": null,
            "_view_module": "@jupyter-widgets/controls",
            "_view_module_version": "1.5.0",
            "_view_name": "FloatSliderView",
            "continuous_update": true,
            "description": "Cognitive (c1)",
            "description_tooltip": null,
            "disabled": false,
            "layout": "IPY_MODEL_ff05470e401d402d87c1783850060ecf",
            "max": 2,
            "min": 0.1,
            "orientation": "horizontal",
            "readout": true,
            "readout_format": ".2f",
            "step": 0.1,
            "style": "IPY_MODEL_9d8c1807c48d4f5da127a290e5090804",
            "value": 1
          }
        },
        "1fd30d2eb1c34c04a772193104d97f81": {
          "model_module": "@jupyter-widgets/controls",
          "model_name": "FloatSliderModel",
          "model_module_version": "1.5.0",
          "state": {
            "_dom_classes": [],
            "_model_module": "@jupyter-widgets/controls",
            "_model_module_version": "1.5.0",
            "_model_name": "FloatSliderModel",
            "_view_count": null,
            "_view_module": "@jupyter-widgets/controls",
            "_view_module_version": "1.5.0",
            "_view_name": "FloatSliderView",
            "continuous_update": true,
            "description": "Social (c2)",
            "description_tooltip": null,
            "disabled": false,
            "layout": "IPY_MODEL_0373ad7b4b0d4490aa376ab3da3b691d",
            "max": 2,
            "min": 0.1,
            "orientation": "horizontal",
            "readout": true,
            "readout_format": ".2f",
            "step": 0.1,
            "style": "IPY_MODEL_99a4d4ca9d644b41bebb8bf3fe526c22",
            "value": 1
          }
        },
        "7413b802e4694c6e973b9583e78ece1f": {
          "model_module": "@jupyter-widgets/controls",
          "model_name": "FloatSliderModel",
          "model_module_version": "1.5.0",
          "state": {
            "_dom_classes": [],
            "_model_module": "@jupyter-widgets/controls",
            "_model_module_version": "1.5.0",
            "_model_name": "FloatSliderModel",
            "_view_count": null,
            "_view_module": "@jupyter-widgets/controls",
            "_view_module_version": "1.5.0",
            "_view_name": "FloatSliderView",
            "continuous_update": true,
            "description": "Priority Weight",
            "description_tooltip": null,
            "disabled": false,
            "layout": "IPY_MODEL_991504674aae46a9b9fad9b8e5b0da95",
            "max": 2,
            "min": 0,
            "orientation": "horizontal",
            "readout": true,
            "readout_format": ".2f",
            "step": 0.1,
            "style": "IPY_MODEL_3f0f09fd35394c739ca8da378116605d",
            "value": 1
          }
        },
        "397bf40c9f404a52863db5abf5667d44": {
          "model_module": "@jupyter-widgets/controls",
          "model_name": "ButtonModel",
          "model_module_version": "1.5.0",
          "state": {
            "_dom_classes": [],
            "_model_module": "@jupyter-widgets/controls",
            "_model_module_version": "1.5.0",
            "_model_name": "ButtonModel",
            "_view_count": null,
            "_view_module": "@jupyter-widgets/controls",
            "_view_module_version": "1.5.0",
            "_view_name": "ButtonView",
            "button_style": "",
            "description": "Run PSO",
            "disabled": false,
            "icon": "",
            "layout": "IPY_MODEL_69cfe862150840dcb4515b443c989f27",
            "style": "IPY_MODEL_e9766d99d5d8405d9a87061af78a2352",
            "tooltip": ""
          }
        },
        "cd0bb3a1115b4740a6f2444a9307a312": {
          "model_module": "@jupyter-widgets/output",
          "model_name": "OutputModel",
          "model_module_version": "1.0.0",
          "state": {
            "_dom_classes": [],
            "_model_module": "@jupyter-widgets/output",
            "_model_module_version": "1.0.0",
            "_model_name": "OutputModel",
            "_view_count": null,
            "_view_module": "@jupyter-widgets/output",
            "_view_module_version": "1.0.0",
            "_view_name": "OutputView",
            "layout": "IPY_MODEL_1aad010e3e4c4f21aae0071038e58b5f",
            "msg_id": "",
            "outputs": [
              {
                "output_type": "stream",
                "name": "stdout",
                "text": [
                  "Running PSO...\n",
                  "PSO finished in 0.01 seconds.\n"
                ]
              },
              {
                "output_type": "display_data",
                "data": {
                  "text/plain": "<Figure size 640x480 with 0 Axes>"
                },
                "metadata": {}
              },
              {
                "output_type": "display_data",
                "data": {
                  "text/plain": "<Figure size 800x600 with 1 Axes>",
                  "image/png": "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\n"
                },
                "metadata": {}
              }
            ]
          }
        },
        "14575f51cd0c4ae3adb881f11226884d": {
          "model_module": "@jupyter-widgets/base",
          "model_name": "LayoutModel",
          "model_module_version": "1.2.0",
          "state": {
            "_model_module": "@jupyter-widgets/base",
            "_model_module_version": "1.2.0",
            "_model_name": "LayoutModel",
            "_view_count": null,
            "_view_module": "@jupyter-widgets/base",
            "_view_module_version": "1.2.0",
            "_view_name": "LayoutView",
            "align_content": null,
            "align_items": null,
            "align_self": null,
            "border": null,
            "bottom": null,
            "display": null,
            "flex": null,
            "flex_flow": null,
            "grid_area": null,
            "grid_auto_columns": null,
            "grid_auto_flow": null,
            "grid_auto_rows": null,
            "grid_column": null,
            "grid_gap": null,
            "grid_row": null,
            "grid_template_areas": null,
            "grid_template_columns": null,
            "grid_template_rows": null,
            "height": null,
            "justify_content": null,
            "justify_items": null,
            "left": null,
            "margin": null,
            "max_height": null,
            "max_width": null,
            "min_height": null,
            "min_width": null,
            "object_fit": null,
            "object_position": null,
            "order": null,
            "overflow": null,
            "overflow_x": null,
            "overflow_y": null,
            "padding": null,
            "right": null,
            "top": null,
            "visibility": null,
            "width": null
          }
        },
        "16cdc73f488244648b10a4525a938e09": {
          "model_module": "@jupyter-widgets/base",
          "model_name": "LayoutModel",
          "model_module_version": "1.2.0",
          "state": {
            "_model_module": "@jupyter-widgets/base",
            "_model_module_version": "1.2.0",
            "_model_name": "LayoutModel",
            "_view_count": null,
            "_view_module": "@jupyter-widgets/base",
            "_view_module_version": "1.2.0",
            "_view_name": "LayoutView",
            "align_content": null,
            "align_items": null,
            "align_self": null,
            "border": null,
            "bottom": null,
            "display": null,
            "flex": null,
            "flex_flow": null,
            "grid_area": null,
            "grid_auto_columns": null,
            "grid_auto_flow": null,
            "grid_auto_rows": null,
            "grid_column": null,
            "grid_gap": null,
            "grid_row": null,
            "grid_template_areas": null,
            "grid_template_columns": null,
            "grid_template_rows": null,
            "height": null,
            "justify_content": null,
            "justify_items": null,
            "left": null,
            "margin": null,
            "max_height": null,
            "max_width": null,
            "min_height": null,
            "min_width": null,
            "object_fit": null,
            "object_position": null,
            "order": null,
            "overflow": null,
            "overflow_x": null,
            "overflow_y": null,
            "padding": null,
            "right": null,
            "top": null,
            "visibility": null,
            "width": null
          }
        },
        "519d749b990140848d7a1771caecf748": {
          "model_module": "@jupyter-widgets/controls",
          "model_name": "SliderStyleModel",
          "model_module_version": "1.5.0",
          "state": {
            "_model_module": "@jupyter-widgets/controls",
            "_model_module_version": "1.5.0",
            "_model_name": "SliderStyleModel",
            "_view_count": null,
            "_view_module": "@jupyter-widgets/base",
            "_view_module_version": "1.2.0",
            "_view_name": "StyleView",
            "description_width": "",
            "handle_color": null
          }
        },
        "f06ac1fd4cc8423f8a03cefc692359c9": {
          "model_module": "@jupyter-widgets/base",
          "model_name": "LayoutModel",
          "model_module_version": "1.2.0",
          "state": {
            "_model_module": "@jupyter-widgets/base",
            "_model_module_version": "1.2.0",
            "_model_name": "LayoutModel",
            "_view_count": null,
            "_view_module": "@jupyter-widgets/base",
            "_view_module_version": "1.2.0",
            "_view_name": "LayoutView",
            "align_content": null,
            "align_items": null,
            "align_self": null,
            "border": null,
            "bottom": null,
            "display": null,
            "flex": null,
            "flex_flow": null,
            "grid_area": null,
            "grid_auto_columns": null,
            "grid_auto_flow": null,
            "grid_auto_rows": null,
            "grid_column": null,
            "grid_gap": null,
            "grid_row": null,
            "grid_template_areas": null,
            "grid_template_columns": null,
            "grid_template_rows": null,
            "height": null,
            "justify_content": null,
            "justify_items": null,
            "left": null,
            "margin": null,
            "max_height": null,
            "max_width": null,
            "min_height": null,
            "min_width": null,
            "object_fit": null,
            "object_position": null,
            "order": null,
            "overflow": null,
            "overflow_x": null,
            "overflow_y": null,
            "padding": null,
            "right": null,
            "top": null,
            "visibility": null,
            "width": null
          }
        },
        "75e69da0424242f0ba0a718c5457377a": {
          "model_module": "@jupyter-widgets/controls",
          "model_name": "SliderStyleModel",
          "model_module_version": "1.5.0",
          "state": {
            "_model_module": "@jupyter-widgets/controls",
            "_model_module_version": "1.5.0",
            "_model_name": "SliderStyleModel",
            "_view_count": null,
            "_view_module": "@jupyter-widgets/base",
            "_view_module_version": "1.2.0",
            "_view_name": "StyleView",
            "description_width": "",
            "handle_color": null
          }
        },
        "81a09dd4b3014772a1e580e243a019fb": {
          "model_module": "@jupyter-widgets/base",
          "model_name": "LayoutModel",
          "model_module_version": "1.2.0",
          "state": {
            "_model_module": "@jupyter-widgets/base",
            "_model_module_version": "1.2.0",
            "_model_name": "LayoutModel",
            "_view_count": null,
            "_view_module": "@jupyter-widgets/base",
            "_view_module_version": "1.2.0",
            "_view_name": "LayoutView",
            "align_content": null,
            "align_items": null,
            "align_self": null,
            "border": null,
            "bottom": null,
            "display": null,
            "flex": null,
            "flex_flow": null,
            "grid_area": null,
            "grid_auto_columns": null,
            "grid_auto_flow": null,
            "grid_auto_rows": null,
            "grid_column": null,
            "grid_gap": null,
            "grid_row": null,
            "grid_template_areas": null,
            "grid_template_columns": null,
            "grid_template_rows": null,
            "height": null,
            "justify_content": null,
            "justify_items": null,
            "left": null,
            "margin": null,
            "max_height": null,
            "max_width": null,
            "min_height": null,
            "min_width": null,
            "object_fit": null,
            "object_position": null,
            "order": null,
            "overflow": null,
            "overflow_x": null,
            "overflow_y": null,
            "padding": null,
            "right": null,
            "top": null,
            "visibility": null,
            "width": null
          }
        },
        "7aa2875b964847ad8ef3dd6dd92dd767": {
          "model_module": "@jupyter-widgets/controls",
          "model_name": "SliderStyleModel",
          "model_module_version": "1.5.0",
          "state": {
            "_model_module": "@jupyter-widgets/controls",
            "_model_module_version": "1.5.0",
            "_model_name": "SliderStyleModel",
            "_view_count": null,
            "_view_module": "@jupyter-widgets/base",
            "_view_module_version": "1.2.0",
            "_view_name": "StyleView",
            "description_width": "",
            "handle_color": null
          }
        },
        "ff05470e401d402d87c1783850060ecf": {
          "model_module": "@jupyter-widgets/base",
          "model_name": "LayoutModel",
          "model_module_version": "1.2.0",
          "state": {
            "_model_module": "@jupyter-widgets/base",
            "_model_module_version": "1.2.0",
            "_model_name": "LayoutModel",
            "_view_count": null,
            "_view_module": "@jupyter-widgets/base",
            "_view_module_version": "1.2.0",
            "_view_name": "LayoutView",
            "align_content": null,
            "align_items": null,
            "align_self": null,
            "border": null,
            "bottom": null,
            "display": null,
            "flex": null,
            "flex_flow": null,
            "grid_area": null,
            "grid_auto_columns": null,
            "grid_auto_flow": null,
            "grid_auto_rows": null,
            "grid_column": null,
            "grid_gap": null,
            "grid_row": null,
            "grid_template_areas": null,
            "grid_template_columns": null,
            "grid_template_rows": null,
            "height": null,
            "justify_content": null,
            "justify_items": null,
            "left": null,
            "margin": null,
            "max_height": null,
            "max_width": null,
            "min_height": null,
            "min_width": null,
            "object_fit": null,
            "object_position": null,
            "order": null,
            "overflow": null,
            "overflow_x": null,
            "overflow_y": null,
            "padding": null,
            "right": null,
            "top": null,
            "visibility": null,
            "width": null
          }
        },
        "9d8c1807c48d4f5da127a290e5090804": {
          "model_module": "@jupyter-widgets/controls",
          "model_name": "SliderStyleModel",
          "model_module_version": "1.5.0",
          "state": {
            "_model_module": "@jupyter-widgets/controls",
            "_model_module_version": "1.5.0",
            "_model_name": "SliderStyleModel",
            "_view_count": null,
            "_view_module": "@jupyter-widgets/base",
            "_view_module_version": "1.2.0",
            "_view_name": "StyleView",
            "description_width": "",
            "handle_color": null
          }
        },
        "0373ad7b4b0d4490aa376ab3da3b691d": {
          "model_module": "@jupyter-widgets/base",
          "model_name": "LayoutModel",
          "model_module_version": "1.2.0",
          "state": {
            "_model_module": "@jupyter-widgets/base",
            "_model_module_version": "1.2.0",
            "_model_name": "LayoutModel",
            "_view_count": null,
            "_view_module": "@jupyter-widgets/base",
            "_view_module_version": "1.2.0",
            "_view_name": "LayoutView",
            "align_content": null,
            "align_items": null,
            "align_self": null,
            "border": null,
            "bottom": null,
            "display": null,
            "flex": null,
            "flex_flow": null,
            "grid_area": null,
            "grid_auto_columns": null,
            "grid_auto_flow": null,
            "grid_auto_rows": null,
            "grid_column": null,
            "grid_gap": null,
            "grid_row": null,
            "grid_template_areas": null,
            "grid_template_columns": null,
            "grid_template_rows": null,
            "height": null,
            "justify_content": null,
            "justify_items": null,
            "left": null,
            "margin": null,
            "max_height": null,
            "max_width": null,
            "min_height": null,
            "min_width": null,
            "object_fit": null,
            "object_position": null,
            "order": null,
            "overflow": null,
            "overflow_x": null,
            "overflow_y": null,
            "padding": null,
            "right": null,
            "top": null,
            "visibility": null,
            "width": null
          }
        },
        "99a4d4ca9d644b41bebb8bf3fe526c22": {
          "model_module": "@jupyter-widgets/controls",
          "model_name": "SliderStyleModel",
          "model_module_version": "1.5.0",
          "state": {
            "_model_module": "@jupyter-widgets/controls",
            "_model_module_version": "1.5.0",
            "_model_name": "SliderStyleModel",
            "_view_count": null,
            "_view_module": "@jupyter-widgets/base",
            "_view_module_version": "1.2.0",
            "_view_name": "StyleView",
            "description_width": "",
            "handle_color": null
          }
        },
        "991504674aae46a9b9fad9b8e5b0da95": {
          "model_module": "@jupyter-widgets/base",
          "model_name": "LayoutModel",
          "model_module_version": "1.2.0",
          "state": {
            "_model_module": "@jupyter-widgets/base",
            "_model_module_version": "1.2.0",
            "_model_name": "LayoutModel",
            "_view_count": null,
            "_view_module": "@jupyter-widgets/base",
            "_view_module_version": "1.2.0",
            "_view_name": "LayoutView",
            "align_content": null,
            "align_items": null,
            "align_self": null,
            "border": null,
            "bottom": null,
            "display": null,
            "flex": null,
            "flex_flow": null,
            "grid_area": null,
            "grid_auto_columns": null,
            "grid_auto_flow": null,
            "grid_auto_rows": null,
            "grid_column": null,
            "grid_gap": null,
            "grid_row": null,
            "grid_template_areas": null,
            "grid_template_columns": null,
            "grid_template_rows": null,
            "height": null,
            "justify_content": null,
            "justify_items": null,
            "left": null,
            "margin": null,
            "max_height": null,
            "max_width": null,
            "min_height": null,
            "min_width": null,
            "object_fit": null,
            "object_position": null,
            "order": null,
            "overflow": null,
            "overflow_x": null,
            "overflow_y": null,
            "padding": null,
            "right": null,
            "top": null,
            "visibility": null,
            "width": null
          }
        },
        "3f0f09fd35394c739ca8da378116605d": {
          "model_module": "@jupyter-widgets/controls",
          "model_name": "SliderStyleModel",
          "model_module_version": "1.5.0",
          "state": {
            "_model_module": "@jupyter-widgets/controls",
            "_model_module_version": "1.5.0",
            "_model_name": "SliderStyleModel",
            "_view_count": null,
            "_view_module": "@jupyter-widgets/base",
            "_view_module_version": "1.2.0",
            "_view_name": "StyleView",
            "description_width": "",
            "handle_color": null
          }
        },
        "69cfe862150840dcb4515b443c989f27": {
          "model_module": "@jupyter-widgets/base",
          "model_name": "LayoutModel",
          "model_module_version": "1.2.0",
          "state": {
            "_model_module": "@jupyter-widgets/base",
            "_model_module_version": "1.2.0",
            "_model_name": "LayoutModel",
            "_view_count": null,
            "_view_module": "@jupyter-widgets/base",
            "_view_module_version": "1.2.0",
            "_view_name": "LayoutView",
            "align_content": null,
            "align_items": null,
            "align_self": null,
            "border": null,
            "bottom": null,
            "display": null,
            "flex": null,
            "flex_flow": null,
            "grid_area": null,
            "grid_auto_columns": null,
            "grid_auto_flow": null,
            "grid_auto_rows": null,
            "grid_column": null,
            "grid_gap": null,
            "grid_row": null,
            "grid_template_areas": null,
            "grid_template_columns": null,
            "grid_template_rows": null,
            "height": null,
            "justify_content": null,
            "justify_items": null,
            "left": null,
            "margin": null,
            "max_height": null,
            "max_width": null,
            "min_height": null,
            "min_width": null,
            "object_fit": null,
            "object_position": null,
            "order": null,
            "overflow": null,
            "overflow_x": null,
            "overflow_y": null,
            "padding": null,
            "right": null,
            "top": null,
            "visibility": null,
            "width": null
          }
        },
        "e9766d99d5d8405d9a87061af78a2352": {
          "model_module": "@jupyter-widgets/controls",
          "model_name": "ButtonStyleModel",
          "model_module_version": "1.5.0",
          "state": {
            "_model_module": "@jupyter-widgets/controls",
            "_model_module_version": "1.5.0",
            "_model_name": "ButtonStyleModel",
            "_view_count": null,
            "_view_module": "@jupyter-widgets/base",
            "_view_module_version": "1.2.0",
            "_view_name": "StyleView",
            "button_color": null,
            "font_weight": ""
          }
        },
        "1aad010e3e4c4f21aae0071038e58b5f": {
          "model_module": "@jupyter-widgets/base",
          "model_name": "LayoutModel",
          "model_module_version": "1.2.0",
          "state": {
            "_model_module": "@jupyter-widgets/base",
            "_model_module_version": "1.2.0",
            "_model_name": "LayoutModel",
            "_view_count": null,
            "_view_module": "@jupyter-widgets/base",
            "_view_module_version": "1.2.0",
            "_view_name": "LayoutView",
            "align_content": null,
            "align_items": null,
            "align_self": null,
            "border": null,
            "bottom": null,
            "display": null,
            "flex": null,
            "flex_flow": null,
            "grid_area": null,
            "grid_auto_columns": null,
            "grid_auto_flow": null,
            "grid_auto_rows": null,
            "grid_column": null,
            "grid_gap": null,
            "grid_row": null,
            "grid_template_areas": null,
            "grid_template_columns": null,
            "grid_template_rows": null,
            "height": null,
            "justify_content": null,
            "justify_items": null,
            "left": null,
            "margin": null,
            "max_height": null,
            "max_width": null,
            "min_height": null,
            "min_width": null,
            "object_fit": null,
            "object_position": null,
            "order": null,
            "overflow": null,
            "overflow_x": null,
            "overflow_y": null,
            "padding": null,
            "right": null,
            "top": null,
            "visibility": null,
            "width": null
          }
        }
      }
    }
  },
  "cells": [
    {
      "cell_type": "code",
      "execution_count": null,
      "metadata": {
        "id": "_sEgy-Ywmg8B"
      },
      "outputs": [],
      "source": [
        "%matplotlib inline\n",
        "import numpy as np\n",
        "import matplotlib.pyplot as plt\n",
        "from ipywidgets import IntSlider, FloatSlider, Button, VBox, Output\n",
        "from IPython.display import display, clear_output\n",
        "import time"
      ]
    },
    {
      "cell_type": "markdown",
      "source": [
        "University facilities data\n"
      ],
      "metadata": {
        "id": "7EBYRTiromQe"
      }
    },
    {
      "cell_type": "code",
      "source": [
        "facilities = [\"Maintenance Hub\", \"Lecture Hall\", \"Library\", \"Dorm\", \"Labs\"]\n",
        "num_facilities = len(facilities)\n",
        "coordinates = np.array([[0, 0], [2, 3], [-1, 2], [3, -1], [-2, -2]])  # Approximate coordinates\n",
        "dist_graph = np.array([\n",
        "    [0, 300, 200, 400, 250],  # Maintenance Hub\n",
        "    [300, 0, 250, 350, 400],  # Lecture Hall\n",
        "    [200, 250, 0, 300, 200],  # Library\n",
        "    [400, 350, 300, 0, 350],  # Dorm\n",
        "    [250, 400, 200, 350, 0]   # Labs\n",
        "])\n",
        "priorities = np.array([0.0, 0.8, 0.3, 0.5, 0.2])  # Priority for each facility (e.g., Lecture Hall has high priority)"
      ],
      "metadata": {
        "id": "9-EtJQYQojlM"
      },
      "execution_count": null,
      "outputs": []
    },
    {
      "cell_type": "markdown",
      "source": [
        "Initialize random seed"
      ],
      "metadata": {
        "id": "wiTaBBVYovts"
      }
    },
    {
      "cell_type": "code",
      "source": [
        "seed = 42\n",
        "np.random.seed(seed)"
      ],
      "metadata": {
        "id": "ZqR2xD_QorMd"
      },
      "execution_count": null,
      "outputs": []
    },
    {
      "cell_type": "markdown",
      "source": [
        "Compute fitness considering priorities"
      ],
      "metadata": {
        "id": "kbPqZ1jUozJj"
      }
    },
    {
      "cell_type": "code",
      "source": [
        "def compute_fitness(solution, dist_graph, priorities, priority_weight):\n",
        "    total_dist = 0\n",
        "    priority_factor = 0\n",
        "    for i in range(len(solution) - 1):\n",
        "        total_dist += dist_graph[solution[i]][solution[i + 1]]\n",
        "        if i < len(solution) - 1:  # Exclude the return to start\n",
        "            priority_factor += priorities[solution[i + 1]]\n",
        "    adjusted_dist = total_dist / (1 + priority_weight * priority_factor)\n",
        "    return adjusted_dist  # Lower is better (minimization)\n"
      ],
      "metadata": {
        "id": "i0wIRh0AoxWN"
      },
      "execution_count": null,
      "outputs": []
    },
    {
      "cell_type": "markdown",
      "source": [
        "Generate a random route"
      ],
      "metadata": {
        "id": "eHgGn1k8o4Nc"
      }
    },
    {
      "cell_type": "code",
      "source": [
        "def generate_route(num_facilities, start_facility=0):\n",
        "    route = [start_facility] + list(np.random.permutation(list(range(1, num_facilities))))\n",
        "    route.append(start_facility)\n",
        "    return np.array(route)"
      ],
      "metadata": {
        "id": "IdPc77ZNo2B4"
      },
      "execution_count": null,
      "outputs": []
    },
    {
      "cell_type": "markdown",
      "source": [
        "Apply velocity to a route by performing swaps"
      ],
      "metadata": {
        "id": "xfoj4qkGo8gd"
      }
    },
    {
      "cell_type": "code",
      "source": [
        "def apply_velocity(route, velocity, num_swaps):\n",
        "    new_route = route.copy()\n",
        "    for _ in range(num_swaps):\n",
        "        idx1, idx2 = np.random.choice(range(1, len(route) - 1), 2, replace=False)  # Exclude start/end\n",
        "        if velocity > 0:  # Use velocity to decide whether to swap\n",
        "            new_route[idx1], new_route[idx2] = new_route[idx2], new_route[idx1]\n",
        "    return new_route\n"
      ],
      "metadata": {
        "id": "-Cx4CeCco6TB"
      },
      "execution_count": null,
      "outputs": []
    },
    {
      "cell_type": "markdown",
      "source": [
        "PSO Algorithm"
      ],
      "metadata": {
        "id": "vJJoVp1fpAmL"
      }
    },
    {
      "cell_type": "code",
      "source": [
        "def run_pso(swarm_size, max_iters, w, c1, c2, priority_weight):\n",
        "    # Initialize swarm\n",
        "    swarm = [generate_route(num_facilities) for _ in range(swarm_size)]\n",
        "    velocities = np.random.uniform(0, 1, swarm_size)  # Scalar velocity for each particle\n",
        "    pbest = [s.copy() for s in swarm]\n",
        "    pbest_fitness = [compute_fitness(s, dist_graph, priorities, priority_weight) for s in swarm]\n",
        "\n",
        "    gbest_idx = np.argmin(pbest_fitness)\n",
        "    gbest = pbest[gbest_idx].copy()\n",
        "    gbest_fitness = pbest_fitness[gbest_idx]\n",
        "    best_length = sum(dist_graph[gbest[i]][gbest[i + 1]] for i in range(len(gbest) - 1))\n",
        "\n",
        "    # Main loop\n",
        "    for _ in range(max_iters):\n",
        "        for i in range(swarm_size):\n",
        "            # Update velocity (scalar)\n",
        "            r1, r2 = np.random.random(2)\n",
        "            velocity = (w * velocities[i] +\n",
        "                        c1 * r1 * (pbest_fitness[i] - compute_fitness(swarm[i], dist_graph, priorities, priority_weight)) +\n",
        "                        c2 * r2 * (gbest_fitness - compute_fitness(swarm[i], dist_graph, priorities, priority_weight)))\n",
        "            velocities[i] = np.clip(velocity, 0, 1)  # Keep velocity in [0, 1]\n",
        "\n",
        "            # Update position (route) by applying swaps based on velocity\n",
        "            num_swaps = int(velocities[i] * (num_facilities - 2))  # Max swaps based on velocity\n",
        "            swarm[i] = apply_velocity(swarm[i], velocities[i], max(1, num_swaps))\n",
        "\n",
        "            # Ensure route remains valid (start/end fixed, no duplicates)\n",
        "            inner_part = swarm[i][1:-1]\n",
        "            if len(set(inner_part)) != len(inner_part):  # Check for duplicates\n",
        "                swarm[i] = generate_route(num_facilities)\n",
        "\n",
        "            # Update personal best\n",
        "            current_fitness = compute_fitness(swarm[i], dist_graph, priorities, priority_weight)\n",
        "            if current_fitness < pbest_fitness[i]:\n",
        "                pbest[i] = swarm[i].copy()\n",
        "                pbest_fitness[i] = current_fitness\n",
        "\n",
        "            # Update global best\n",
        "            if current_fitness < gbest_fitness:\n",
        "                gbest = swarm[i].copy()\n",
        "                gbest_fitness = current_fitness\n",
        "                best_length = sum(dist_graph[gbest[i]][gbest[i + 1]] for i in range(len(gbest) - 1))\n",
        "\n",
        "    return gbest, best_length"
      ],
      "metadata": {
        "id": "s_GX-9Ieo-m1"
      },
      "execution_count": null,
      "outputs": []
    },
    {
      "cell_type": "markdown",
      "source": [
        "Plot function"
      ],
      "metadata": {
        "id": "0uTWYRQlpF4l"
      }
    },
    {
      "cell_type": "code",
      "source": [
        "def plot_solution(best_solution, best_length):\n",
        "    plt.clf()\n",
        "    fig, ax = plt.subplots(figsize=(8, 6))\n",
        "    ax.scatter(coordinates[:, 0], coordinates[:, 1], c='red', s=100)\n",
        "    for i, (x, y) in enumerate(coordinates):\n",
        "        ax.text(x + 0.1, y, facilities[i], fontsize=12)\n",
        "\n",
        "    for i in range(num_facilities):\n",
        "        start = coordinates[best_solution[i]]\n",
        "        end = coordinates[best_solution[i + 1]]\n",
        "        ax.plot([start[0], end[0]], [start[1], end[1]], 'b-')\n",
        "\n",
        "    ax.set_title(f\"Best Route: {best_length:.2f} meters\\nPath: {' -> '.join([facilities[i] for i in best_solution])}\")\n",
        "    ax.set_xlabel(\"X\")\n",
        "    ax.set_ylabel(\"Y\")\n",
        "    ax.grid(True)\n",
        "    plt.show()\n",
        "\n"
      ],
      "metadata": {
        "id": "Im0UGBD8pDot"
      },
      "execution_count": null,
      "outputs": []
    },
    {
      "cell_type": "markdown",
      "source": [
        "GUI Widgets"
      ],
      "metadata": {
        "id": "ViWO5p-upI3b"
      }
    },
    {
      "cell_type": "code",
      "source": [
        "swarm_size_slider = IntSlider(min=2, max=50, value=10, description='Swarm Size')\n",
        "max_iters_slider = IntSlider(min=1, max=100, value=20, description='Max Iterations')\n",
        "w_slider = FloatSlider(min=0.1, max=1.0, value=0.5, description='Inertia (w)')\n",
        "c1_slider = FloatSlider(min=0.1, max=2.0, value=1.0, description='Cognitive (c1)')\n",
        "c2_slider = FloatSlider(min=0.1, max=2.0, value=1.0, description='Social (c2)')\n",
        "priority_weight_slider = FloatSlider(min=0.0, max=2.0, value=1.0, description='Priority Weight')\n",
        "run_button = Button(description=\"Run PSO\")\n",
        "\n",
        "output = Output()\n",
        "\n",
        "def on_button_clicked(b):\n",
        "    with output:\n",
        "        clear_output(wait=True)\n",
        "        print(\"Running PSO...\")\n",
        "        start_time = time.time()\n",
        "        best_solution, best_length = run_pso(\n",
        "            swarm_size=swarm_size_slider.value,\n",
        "            max_iters=max_iters_slider.value,\n",
        "            w=w_slider.value,\n",
        "            c1=c1_slider.value,\n",
        "            c2=c2_slider.value,\n",
        "            priority_weight=priority_weight_slider.value\n",
        "        )\n",
        "        print(f\"PSO finished in {time.time() - start_time:.2f} seconds.\")\n",
        "        plot_solution(best_solution, best_length)\n",
        "\n",
        "run_button.on_click(on_button_clicked)\n",
        "\n"
      ],
      "metadata": {
        "id": "5IHxDufapIMf"
      },
      "execution_count": null,
      "outputs": []
    },
    {
      "cell_type": "markdown",
      "source": [
        "Display GUI"
      ],
      "metadata": {
        "id": "eXCUPHbApPnc"
      }
    },
    {
      "cell_type": "code",
      "source": [
        "display(VBox([\n",
        "    swarm_size_slider, max_iters_slider, w_slider, c1_slider,\n",
        "    c2_slider, priority_weight_slider, run_button, output\n",
        "]))"
      ],
      "metadata": {
        "colab": {
          "base_uri": "https://localhost:8080/",
          "height": 861,
          "referenced_widgets": [
            "e12b8d5bc5ad48b38c1ae1f136ff8018",
            "033db73d782646e2a947c7ab244de381",
            "a1c23a97d9ad4c0c9d61ecd61108ab6e",
            "da635f7aaa484ca2b0bfe33d22366233",
            "29c43a43b9444b908d8776da4ac4afed",
            "1fd30d2eb1c34c04a772193104d97f81",
            "7413b802e4694c6e973b9583e78ece1f",
            "397bf40c9f404a52863db5abf5667d44",
            "cd0bb3a1115b4740a6f2444a9307a312",
            "14575f51cd0c4ae3adb881f11226884d",
            "16cdc73f488244648b10a4525a938e09",
            "519d749b990140848d7a1771caecf748",
            "f06ac1fd4cc8423f8a03cefc692359c9",
            "75e69da0424242f0ba0a718c5457377a",
            "81a09dd4b3014772a1e580e243a019fb",
            "7aa2875b964847ad8ef3dd6dd92dd767",
            "ff05470e401d402d87c1783850060ecf",
            "9d8c1807c48d4f5da127a290e5090804",
            "0373ad7b4b0d4490aa376ab3da3b691d",
            "99a4d4ca9d644b41bebb8bf3fe526c22",
            "991504674aae46a9b9fad9b8e5b0da95",
            "3f0f09fd35394c739ca8da378116605d",
            "69cfe862150840dcb4515b443c989f27",
            "e9766d99d5d8405d9a87061af78a2352",
            "1aad010e3e4c4f21aae0071038e58b5f"
          ]
        },
        "id": "V1L-kS1RpNsv",
        "outputId": "605fa193-f073-4b52-b837-2f3f20dafaa6"
      },
      "execution_count": null,
      "outputs": [
        {
          "output_type": "display_data",
          "data": {
            "text/plain": [
              "VBox(children=(IntSlider(value=10, description='Swarm Size', max=50, min=2), IntSlider(value=20, description='…"
            ],
            "application/vnd.jupyter.widget-view+json": {
              "version_major": 2,
              "version_minor": 0,
              "model_id": "e12b8d5bc5ad48b38c1ae1f136ff8018"
            }
          },
          "metadata": {}
        }
      ]
    },
    {
      "cell_type": "code",
      "source": [],
      "metadata": {
        "id": "DvOEOpd-peUP"
      },
      "execution_count": null,
      "outputs": []
    }
  ]
}