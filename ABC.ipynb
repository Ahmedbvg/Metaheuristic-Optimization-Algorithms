{
  "nbformat": 4,
  "nbformat_minor": 0,
  "metadata": {
    "colab": {
      "provenance": []
    },
    "kernelspec": {
      "name": "python3",
      "display_name": "Python 3"
    },
    "language_info": {
      "name": "python"
    },
    "widgets": {
      "application/vnd.jupyter.widget-state+json": {
        "b5164a3f9db6451abb2a59d33befee6c": {
          "model_module": "@jupyter-widgets/controls",
          "model_name": "VBoxModel",
          "model_module_version": "1.5.0",
          "state": {
            "_dom_classes": [],
            "_model_module": "@jupyter-widgets/controls",
            "_model_module_version": "1.5.0",
            "_model_name": "VBoxModel",
            "_view_count": null,
            "_view_module": "@jupyter-widgets/controls",
            "_view_module_version": "1.5.0",
            "_view_name": "VBoxView",
            "box_style": "",
            "children": [
              "IPY_MODEL_0dde9e4050f045d9ae6f102d21a9819e",
              "IPY_MODEL_8fae687a614e4015a9232dd525477f4d",
              "IPY_MODEL_d984a801eb414091bb4591e513e22c1f",
              "IPY_MODEL_910b1fde63924b4386b7ae59a2ba1b8e",
              "IPY_MODEL_72ce56577c644665ae35035ffdce1ebe",
              "IPY_MODEL_094a74d1f5ae4225ad339dd46515c678"
            ],
            "layout": "IPY_MODEL_95645bfdd80348fdb0315b72e75f814a"
          }
        },
        "0dde9e4050f045d9ae6f102d21a9819e": {
          "model_module": "@jupyter-widgets/controls",
          "model_name": "IntSliderModel",
          "model_module_version": "1.5.0",
          "state": {
            "_dom_classes": [],
            "_model_module": "@jupyter-widgets/controls",
            "_model_module_version": "1.5.0",
            "_model_name": "IntSliderModel",
            "_view_count": null,
            "_view_module": "@jupyter-widgets/controls",
            "_view_module_version": "1.5.0",
            "_view_name": "IntSliderView",
            "continuous_update": true,
            "description": "Colony Size",
            "description_tooltip": null,
            "disabled": false,
            "layout": "IPY_MODEL_4d4bccd27d7546c2a66c34c5c4dd6b59",
            "max": 50,
            "min": 2,
            "orientation": "horizontal",
            "readout": true,
            "readout_format": "d",
            "step": 1,
            "style": "IPY_MODEL_c0377450299444e19202421d2fcc86a4",
            "value": 10
          }
        },
        "8fae687a614e4015a9232dd525477f4d": {
          "model_module": "@jupyter-widgets/controls",
          "model_name": "IntSliderModel",
          "model_module_version": "1.5.0",
          "state": {
            "_dom_classes": [],
            "_model_module": "@jupyter-widgets/controls",
            "_model_module_version": "1.5.0",
            "_model_name": "IntSliderModel",
            "_view_count": null,
            "_view_module": "@jupyter-widgets/controls",
            "_view_module_version": "1.5.0",
            "_view_name": "IntSliderView",
            "continuous_update": true,
            "description": "Max Iterations",
            "description_tooltip": null,
            "disabled": false,
            "layout": "IPY_MODEL_203bfe948a0644f98622251d24f40d7c",
            "max": 100,
            "min": 1,
            "orientation": "horizontal",
            "readout": true,
            "readout_format": "d",
            "step": 1,
            "style": "IPY_MODEL_97e1378f02ed4341b41d662df88d4c4e",
            "value": 19
          }
        },
        "d984a801eb414091bb4591e513e22c1f": {
          "model_module": "@jupyter-widgets/controls",
          "model_name": "IntSliderModel",
          "model_module_version": "1.5.0",
          "state": {
            "_dom_classes": [],
            "_model_module": "@jupyter-widgets/controls",
            "_model_module_version": "1.5.0",
            "_model_name": "IntSliderModel",
            "_view_count": null,
            "_view_module": "@jupyter-widgets/controls",
            "_view_module_version": "1.5.0",
            "_view_name": "IntSliderView",
            "continuous_update": true,
            "description": "Limit",
            "description_tooltip": null,
            "disabled": false,
            "layout": "IPY_MODEL_62bc3aee12e942609e4b2133a0422cea",
            "max": 20,
            "min": 1,
            "orientation": "horizontal",
            "readout": true,
            "readout_format": "d",
            "step": 1,
            "style": "IPY_MODEL_18677670c87f4e17b6f21637971ca1c2",
            "value": 5
          }
        },
        "910b1fde63924b4386b7ae59a2ba1b8e": {
          "model_module": "@jupyter-widgets/controls",
          "model_name": "FloatSliderModel",
          "model_module_version": "1.5.0",
          "state": {
            "_dom_classes": [],
            "_model_module": "@jupyter-widgets/controls",
            "_model_module_version": "1.5.0",
            "_model_name": "FloatSliderModel",
            "_view_count": null,
            "_view_module": "@jupyter-widgets/controls",
            "_view_module_version": "1.5.0",
            "_view_name": "FloatSliderView",
            "continuous_update": true,
            "description": "Priority Weight",
            "description_tooltip": null,
            "disabled": false,
            "layout": "IPY_MODEL_6dfd727cbd9f41af9482977220844289",
            "max": 2,
            "min": 0,
            "orientation": "horizontal",
            "readout": true,
            "readout_format": ".2f",
            "step": 0.1,
            "style": "IPY_MODEL_6a6a3e95a91744c1b0f964acb7e2c405",
            "value": 1
          }
        },
        "72ce56577c644665ae35035ffdce1ebe": {
          "model_module": "@jupyter-widgets/controls",
          "model_name": "ButtonModel",
          "model_module_version": "1.5.0",
          "state": {
            "_dom_classes": [],
            "_model_module": "@jupyter-widgets/controls",
            "_model_module_version": "1.5.0",
            "_model_name": "ButtonModel",
            "_view_count": null,
            "_view_module": "@jupyter-widgets/controls",
            "_view_module_version": "1.5.0",
            "_view_name": "ButtonView",
            "button_style": "",
            "description": "Run ABC",
            "disabled": false,
            "icon": "",
            "layout": "IPY_MODEL_bb5db2c550c4428daec6d6a21d40bc01",
            "style": "IPY_MODEL_ebe5d306b05b408a90648f1a9048ca92",
            "tooltip": ""
          }
        },
        "094a74d1f5ae4225ad339dd46515c678": {
          "model_module": "@jupyter-widgets/output",
          "model_name": "OutputModel",
          "model_module_version": "1.0.0",
          "state": {
            "_dom_classes": [],
            "_model_module": "@jupyter-widgets/output",
            "_model_module_version": "1.0.0",
            "_model_name": "OutputModel",
            "_view_count": null,
            "_view_module": "@jupyter-widgets/output",
            "_view_module_version": "1.0.0",
            "_view_name": "OutputView",
            "layout": "IPY_MODEL_8c471ac779f34f0baeff3cbdb2429ed4",
            "msg_id": "",
            "outputs": [
              {
                "output_type": "stream",
                "name": "stdout",
                "text": [
                  "Running ABC...\n",
                  "ABC finished in 0.02 seconds.\n"
                ]
              },
              {
                "output_type": "display_data",
                "data": {
                  "text/plain": "<Figure size 640x480 with 0 Axes>"
                },
                "metadata": {}
              },
              {
                "output_type": "display_data",
                "data": {
                  "text/plain": "<Figure size 800x600 with 1 Axes>",
                  "image/png": "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\n"
                },
                "metadata": {}
              }
            ]
          }
        },
        "95645bfdd80348fdb0315b72e75f814a": {
          "model_module": "@jupyter-widgets/base",
          "model_name": "LayoutModel",
          "model_module_version": "1.2.0",
          "state": {
            "_model_module": "@jupyter-widgets/base",
            "_model_module_version": "1.2.0",
            "_model_name": "LayoutModel",
            "_view_count": null,
            "_view_module": "@jupyter-widgets/base",
            "_view_module_version": "1.2.0",
            "_view_name": "LayoutView",
            "align_content": null,
            "align_items": null,
            "align_self": null,
            "border": null,
            "bottom": null,
            "display": null,
            "flex": null,
            "flex_flow": null,
            "grid_area": null,
            "grid_auto_columns": null,
            "grid_auto_flow": null,
            "grid_auto_rows": null,
            "grid_column": null,
            "grid_gap": null,
            "grid_row": null,
            "grid_template_areas": null,
            "grid_template_columns": null,
            "grid_template_rows": null,
            "height": null,
            "justify_content": null,
            "justify_items": null,
            "left": null,
            "margin": null,
            "max_height": null,
            "max_width": null,
            "min_height": null,
            "min_width": null,
            "object_fit": null,
            "object_position": null,
            "order": null,
            "overflow": null,
            "overflow_x": null,
            "overflow_y": null,
            "padding": null,
            "right": null,
            "top": null,
            "visibility": null,
            "width": null
          }
        },
        "4d4bccd27d7546c2a66c34c5c4dd6b59": {
          "model_module": "@jupyter-widgets/base",
          "model_name": "LayoutModel",
          "model_module_version": "1.2.0",
          "state": {
            "_model_module": "@jupyter-widgets/base",
            "_model_module_version": "1.2.0",
            "_model_name": "LayoutModel",
            "_view_count": null,
            "_view_module": "@jupyter-widgets/base",
            "_view_module_version": "1.2.0",
            "_view_name": "LayoutView",
            "align_content": null,
            "align_items": null,
            "align_self": null,
            "border": null,
            "bottom": null,
            "display": null,
            "flex": null,
            "flex_flow": null,
            "grid_area": null,
            "grid_auto_columns": null,
            "grid_auto_flow": null,
            "grid_auto_rows": null,
            "grid_column": null,
            "grid_gap": null,
            "grid_row": null,
            "grid_template_areas": null,
            "grid_template_columns": null,
            "grid_template_rows": null,
            "height": null,
            "justify_content": null,
            "justify_items": null,
            "left": null,
            "margin": null,
            "max_height": null,
            "max_width": null,
            "min_height": null,
            "min_width": null,
            "object_fit": null,
            "object_position": null,
            "order": null,
            "overflow": null,
            "overflow_x": null,
            "overflow_y": null,
            "padding": null,
            "right": null,
            "top": null,
            "visibility": null,
            "width": null
          }
        },
        "c0377450299444e19202421d2fcc86a4": {
          "model_module": "@jupyter-widgets/controls",
          "model_name": "SliderStyleModel",
          "model_module_version": "1.5.0",
          "state": {
            "_model_module": "@jupyter-widgets/controls",
            "_model_module_version": "1.5.0",
            "_model_name": "SliderStyleModel",
            "_view_count": null,
            "_view_module": "@jupyter-widgets/base",
            "_view_module_version": "1.2.0",
            "_view_name": "StyleView",
            "description_width": "",
            "handle_color": null
          }
        },
        "203bfe948a0644f98622251d24f40d7c": {
          "model_module": "@jupyter-widgets/base",
          "model_name": "LayoutModel",
          "model_module_version": "1.2.0",
          "state": {
            "_model_module": "@jupyter-widgets/base",
            "_model_module_version": "1.2.0",
            "_model_name": "LayoutModel",
            "_view_count": null,
            "_view_module": "@jupyter-widgets/base",
            "_view_module_version": "1.2.0",
            "_view_name": "LayoutView",
            "align_content": null,
            "align_items": null,
            "align_self": null,
            "border": null,
            "bottom": null,
            "display": null,
            "flex": null,
            "flex_flow": null,
            "grid_area": null,
            "grid_auto_columns": null,
            "grid_auto_flow": null,
            "grid_auto_rows": null,
            "grid_column": null,
            "grid_gap": null,
            "grid_row": null,
            "grid_template_areas": null,
            "grid_template_columns": null,
            "grid_template_rows": null,
            "height": null,
            "justify_content": null,
            "justify_items": null,
            "left": null,
            "margin": null,
            "max_height": null,
            "max_width": null,
            "min_height": null,
            "min_width": null,
            "object_fit": null,
            "object_position": null,
            "order": null,
            "overflow": null,
            "overflow_x": null,
            "overflow_y": null,
            "padding": null,
            "right": null,
            "top": null,
            "visibility": null,
            "width": null
          }
        },
        "97e1378f02ed4341b41d662df88d4c4e": {
          "model_module": "@jupyter-widgets/controls",
          "model_name": "SliderStyleModel",
          "model_module_version": "1.5.0",
          "state": {
            "_model_module": "@jupyter-widgets/controls",
            "_model_module_version": "1.5.0",
            "_model_name": "SliderStyleModel",
            "_view_count": null,
            "_view_module": "@jupyter-widgets/base",
            "_view_module_version": "1.2.0",
            "_view_name": "StyleView",
            "description_width": "",
            "handle_color": null
          }
        },
        "62bc3aee12e942609e4b2133a0422cea": {
          "model_module": "@jupyter-widgets/base",
          "model_name": "LayoutModel",
          "model_module_version": "1.2.0",
          "state": {
            "_model_module": "@jupyter-widgets/base",
            "_model_module_version": "1.2.0",
            "_model_name": "LayoutModel",
            "_view_count": null,
            "_view_module": "@jupyter-widgets/base",
            "_view_module_version": "1.2.0",
            "_view_name": "LayoutView",
            "align_content": null,
            "align_items": null,
            "align_self": null,
            "border": null,
            "bottom": null,
            "display": null,
            "flex": null,
            "flex_flow": null,
            "grid_area": null,
            "grid_auto_columns": null,
            "grid_auto_flow": null,
            "grid_auto_rows": null,
            "grid_column": null,
            "grid_gap": null,
            "grid_row": null,
            "grid_template_areas": null,
            "grid_template_columns": null,
            "grid_template_rows": null,
            "height": null,
            "justify_content": null,
            "justify_items": null,
            "left": null,
            "margin": null,
            "max_height": null,
            "max_width": null,
            "min_height": null,
            "min_width": null,
            "object_fit": null,
            "object_position": null,
            "order": null,
            "overflow": null,
            "overflow_x": null,
            "overflow_y": null,
            "padding": null,
            "right": null,
            "top": null,
            "visibility": null,
            "width": null
          }
        },
        "18677670c87f4e17b6f21637971ca1c2": {
          "model_module": "@jupyter-widgets/controls",
          "model_name": "SliderStyleModel",
          "model_module_version": "1.5.0",
          "state": {
            "_model_module": "@jupyter-widgets/controls",
            "_model_module_version": "1.5.0",
            "_model_name": "SliderStyleModel",
            "_view_count": null,
            "_view_module": "@jupyter-widgets/base",
            "_view_module_version": "1.2.0",
            "_view_name": "StyleView",
            "description_width": "",
            "handle_color": null
          }
        },
        "6dfd727cbd9f41af9482977220844289": {
          "model_module": "@jupyter-widgets/base",
          "model_name": "LayoutModel",
          "model_module_version": "1.2.0",
          "state": {
            "_model_module": "@jupyter-widgets/base",
            "_model_module_version": "1.2.0",
            "_model_name": "LayoutModel",
            "_view_count": null,
            "_view_module": "@jupyter-widgets/base",
            "_view_module_version": "1.2.0",
            "_view_name": "LayoutView",
            "align_content": null,
            "align_items": null,
            "align_self": null,
            "border": null,
            "bottom": null,
            "display": null,
            "flex": null,
            "flex_flow": null,
            "grid_area": null,
            "grid_auto_columns": null,
            "grid_auto_flow": null,
            "grid_auto_rows": null,
            "grid_column": null,
            "grid_gap": null,
            "grid_row": null,
            "grid_template_areas": null,
            "grid_template_columns": null,
            "grid_template_rows": null,
            "height": null,
            "justify_content": null,
            "justify_items": null,
            "left": null,
            "margin": null,
            "max_height": null,
            "max_width": null,
            "min_height": null,
            "min_width": null,
            "object_fit": null,
            "object_position": null,
            "order": null,
            "overflow": null,
            "overflow_x": null,
            "overflow_y": null,
            "padding": null,
            "right": null,
            "top": null,
            "visibility": null,
            "width": null
          }
        },
        "6a6a3e95a91744c1b0f964acb7e2c405": {
          "model_module": "@jupyter-widgets/controls",
          "model_name": "SliderStyleModel",
          "model_module_version": "1.5.0",
          "state": {
            "_model_module": "@jupyter-widgets/controls",
            "_model_module_version": "1.5.0",
            "_model_name": "SliderStyleModel",
            "_view_count": null,
            "_view_module": "@jupyter-widgets/base",
            "_view_module_version": "1.2.0",
            "_view_name": "StyleView",
            "description_width": "",
            "handle_color": null
          }
        },
        "bb5db2c550c4428daec6d6a21d40bc01": {
          "model_module": "@jupyter-widgets/base",
          "model_name": "LayoutModel",
          "model_module_version": "1.2.0",
          "state": {
            "_model_module": "@jupyter-widgets/base",
            "_model_module_version": "1.2.0",
            "_model_name": "LayoutModel",
            "_view_count": null,
            "_view_module": "@jupyter-widgets/base",
            "_view_module_version": "1.2.0",
            "_view_name": "LayoutView",
            "align_content": null,
            "align_items": null,
            "align_self": null,
            "border": null,
            "bottom": null,
            "display": null,
            "flex": null,
            "flex_flow": null,
            "grid_area": null,
            "grid_auto_columns": null,
            "grid_auto_flow": null,
            "grid_auto_rows": null,
            "grid_column": null,
            "grid_gap": null,
            "grid_row": null,
            "grid_template_areas": null,
            "grid_template_columns": null,
            "grid_template_rows": null,
            "height": null,
            "justify_content": null,
            "justify_items": null,
            "left": null,
            "margin": null,
            "max_height": null,
            "max_width": null,
            "min_height": null,
            "min_width": null,
            "object_fit": null,
            "object_position": null,
            "order": null,
            "overflow": null,
            "overflow_x": null,
            "overflow_y": null,
            "padding": null,
            "right": null,
            "top": null,
            "visibility": null,
            "width": null
          }
        },
        "ebe5d306b05b408a90648f1a9048ca92": {
          "model_module": "@jupyter-widgets/controls",
          "model_name": "ButtonStyleModel",
          "model_module_version": "1.5.0",
          "state": {
            "_model_module": "@jupyter-widgets/controls",
            "_model_module_version": "1.5.0",
            "_model_name": "ButtonStyleModel",
            "_view_count": null,
            "_view_module": "@jupyter-widgets/base",
            "_view_module_version": "1.2.0",
            "_view_name": "StyleView",
            "button_color": null,
            "font_weight": ""
          }
        },
        "8c471ac779f34f0baeff3cbdb2429ed4": {
          "model_module": "@jupyter-widgets/base",
          "model_name": "LayoutModel",
          "model_module_version": "1.2.0",
          "state": {
            "_model_module": "@jupyter-widgets/base",
            "_model_module_version": "1.2.0",
            "_model_name": "LayoutModel",
            "_view_count": null,
            "_view_module": "@jupyter-widgets/base",
            "_view_module_version": "1.2.0",
            "_view_name": "LayoutView",
            "align_content": null,
            "align_items": null,
            "align_self": null,
            "border": null,
            "bottom": null,
            "display": null,
            "flex": null,
            "flex_flow": null,
            "grid_area": null,
            "grid_auto_columns": null,
            "grid_auto_flow": null,
            "grid_auto_rows": null,
            "grid_column": null,
            "grid_gap": null,
            "grid_row": null,
            "grid_template_areas": null,
            "grid_template_columns": null,
            "grid_template_rows": null,
            "height": null,
            "justify_content": null,
            "justify_items": null,
            "left": null,
            "margin": null,
            "max_height": null,
            "max_width": null,
            "min_height": null,
            "min_width": null,
            "object_fit": null,
            "object_position": null,
            "order": null,
            "overflow": null,
            "overflow_x": null,
            "overflow_y": null,
            "padding": null,
            "right": null,
            "top": null,
            "visibility": null,
            "width": null
          }
        }
      }
    }
  },
  "cells": [
    {
      "cell_type": "code",
      "execution_count": null,
      "metadata": {
        "id": "stXhVuyphHuf"
      },
      "outputs": [],
      "source": [
        "%matplotlib inline\n",
        "import numpy as np\n",
        "import matplotlib.pyplot as plt\n",
        "from ipywidgets import IntSlider, FloatSlider, Button, VBox, Output\n",
        "from IPython.display import display, clear_output\n",
        "import time"
      ]
    },
    {
      "cell_type": "markdown",
      "source": [
        "University facilities data"
      ],
      "metadata": {
        "id": "n-yqnQlElT6H"
      }
    },
    {
      "cell_type": "code",
      "source": [
        "facilities = [\"Maintenance Hub\", \"Lecture Hall\", \"Library\", \"Dorm\", \"Labs\"]\n",
        "num_facilities = len(facilities)\n",
        "coordinates = np.array([[0, 0], [2, 3], [-1, 2], [3, -1], [-2, -2]])  # Approximate coordinates\n",
        "dist_graph = np.array([\n",
        "    [0, 300, 200, 400, 250],  # Maintenance Hub\n",
        "    [300, 0, 250, 350, 400],  # Lecture Hall\n",
        "    [200, 250, 0, 300, 200],  # Library\n",
        "    [400, 350, 300, 0, 350],  # Dorm\n",
        "    [250, 400, 200, 350, 0]   # Labs\n",
        "])\n",
        "priorities = np.array([0.0, 0.8, 0.3, 0.5, 0.2])  # Priority for each facility (e.g., Lecture Hall has high priority)"
      ],
      "metadata": {
        "id": "xShTWsA_hbku"
      },
      "execution_count": null,
      "outputs": []
    },
    {
      "cell_type": "markdown",
      "source": [
        "Initialize random seed"
      ],
      "metadata": {
        "id": "6c2n7EkdlZJG"
      }
    },
    {
      "cell_type": "code",
      "source": [
        "seed = 42\n",
        "np.random.seed(seed)"
      ],
      "metadata": {
        "id": "fqZphKVvlWzl"
      },
      "execution_count": null,
      "outputs": []
    },
    {
      "cell_type": "markdown",
      "source": [
        "Compute fitness considering priorities"
      ],
      "metadata": {
        "id": "P7sLtxxBln61"
      }
    },
    {
      "cell_type": "code",
      "source": [
        "def compute_fitness(solution, dist_graph, priorities, priority_weight):\n",
        "    total_dist = 0\n",
        "    priority_factor = 0\n",
        "    for i in range(len(solution) - 1):\n",
        "        total_dist += dist_graph[solution[i]][solution[i + 1]]\n",
        "        if i < len(solution) - 1:  # Exclude the return to start\n",
        "            priority_factor += priorities[solution[i + 1]]\n",
        "    # Incorporate priority: shorter distance and higher priority are better\n",
        "    adjusted_dist = total_dist / (1 + priority_weight * priority_factor)\n",
        "    return 1 / adjusted_dist  # Higher fitness for shorter adjusted distance"
      ],
      "metadata": {
        "id": "Ge2uvExRleoZ"
      },
      "execution_count": null,
      "outputs": []
    },
    {
      "cell_type": "markdown",
      "source": [
        "Generate a random route"
      ],
      "metadata": {
        "id": "4dsJhP6alvDu"
      }
    },
    {
      "cell_type": "code",
      "source": [
        "def generate_route(num_facilities, start_facility=0):\n",
        "    route = [start_facility] + list(np.random.permutation(list(range(1, num_facilities))))\n",
        "    route.append(start_facility)\n",
        "    return np.array(route)"
      ],
      "metadata": {
        "id": "r_hGDTKKlsYo"
      },
      "execution_count": null,
      "outputs": []
    },
    {
      "cell_type": "markdown",
      "source": [
        "Perturb a route by swapping two facilities (excluding start/end)"
      ],
      "metadata": {
        "id": "V77mzX7Pl0zG"
      }
    },
    {
      "cell_type": "code",
      "source": [
        "def perturb_route(route):\n",
        "    route_inner = route[1:-1].copy()  # Exclude start and end\n",
        "    idx1, idx2 = np.random.choice(len(route_inner), 2, replace=False)\n",
        "    route_inner[idx1], route_inner[idx2] = route_inner[idx2], route_inner[idx1]\n",
        "    return np.concatenate(([route[0]], route_inner, [route[-1]]))"
      ],
      "metadata": {
        "id": "LnwPgBfslysG"
      },
      "execution_count": null,
      "outputs": []
    },
    {
      "cell_type": "markdown",
      "source": [
        "ABC Algorithm"
      ],
      "metadata": {
        "id": "m_N7KLPnl4Hv"
      }
    },
    {
      "cell_type": "code",
      "source": [
        "def run_abc(colony_size, max_iters, limit, priority_weight):\n",
        "    # Initialize population\n",
        "    population = [generate_route(num_facilities) for _ in range(colony_size // 2)]\n",
        "    fitness = [compute_fitness(sol, dist_graph, priorities, priority_weight) for sol in population]\n",
        "    trials = [0] * len(population)\n",
        "\n",
        "    best_solution = population[np.argmax(fitness)]\n",
        "    best_fitness = max(fitness)\n",
        "    best_length = sum(dist_graph[best_solution[i]][best_solution[i + 1]] for i in range(len(best_solution) - 1))\n",
        "\n",
        "    # Main loop\n",
        "    for _ in range(max_iters):\n",
        "        # Employed Bees Phase\n",
        "        for i in range(len(population)):\n",
        "            new_solution = perturb_route(population[i])\n",
        "            new_fitness = compute_fitness(new_solution, dist_graph, priorities, priority_weight)\n",
        "            if new_fitness > fitness[i]:\n",
        "                population[i] = new_solution\n",
        "                fitness[i] = new_fitness\n",
        "                trials[i] = 0\n",
        "            else:\n",
        "                trials[i] += 1\n",
        "\n",
        "        # Onlooker Bees Phase\n",
        "        fitness_sum = sum(fitness)\n",
        "        if fitness_sum == 0:\n",
        "            probabilities = [1 / len(fitness)] * len(fitness)\n",
        "        else:\n",
        "            probabilities = [f / fitness_sum for f in fitness]\n",
        "\n",
        "        for _ in range(len(population)):\n",
        "            i = np.random.choice(len(population), p=probabilities)\n",
        "            new_solution = perturb_route(population[i])\n",
        "            new_fitness = compute_fitness(new_solution, dist_graph, priorities, priority_weight)\n",
        "            if new_fitness > fitness[i]:\n",
        "                population[i] = new_solution\n",
        "                fitness[i] = new_fitness\n",
        "                trials[i] = 0\n",
        "            else:\n",
        "                trials[i] += 1\n",
        "\n",
        "        # Scout Bees Phase\n",
        "        for i in range(len(population)):\n",
        "            if trials[i] >= limit:\n",
        "                population[i] = generate_route(num_facilities)\n",
        "                fitness[i] = compute_fitness(population[i], dist_graph, priorities, priority_weight)\n",
        "                trials[i] = 0\n",
        "\n",
        "        # Update best solution\n",
        "        current_best_idx = np.argmax(fitness)\n",
        "        current_best_fitness = fitness[current_best_idx]\n",
        "        if current_best_fitness > best_fitness:\n",
        "            best_fitness = current_best_fitness\n",
        "            best_solution = population[current_best_idx]\n",
        "            best_length = sum(dist_graph[best_solution[i]][best_solution[i + 1]] for i in range(len(best_solution) - 1))\n",
        "\n",
        "    return best_solution, best_length\n"
      ],
      "metadata": {
        "id": "gW304cZMl3HF"
      },
      "execution_count": null,
      "outputs": []
    },
    {
      "cell_type": "markdown",
      "source": [
        "Plot function"
      ],
      "metadata": {
        "id": "TdauVDZYl_aH"
      }
    },
    {
      "cell_type": "code",
      "source": [
        "def plot_solution(best_solution, best_length):\n",
        "    plt.clf()\n",
        "    fig, ax = plt.subplots(figsize=(8, 6))\n",
        "    ax.scatter(coordinates[:, 0], coordinates[:, 1], c='red', s=100)\n",
        "    for i, (x, y) in enumerate(coordinates):\n",
        "        ax.text(x + 0.1, y, facilities[i], fontsize=12)\n",
        "\n",
        "    for i in range(num_facilities):\n",
        "        start = coordinates[best_solution[i]]\n",
        "        end = coordinates[best_solution[i + 1]]\n",
        "        ax.plot([start[0], end[0]], [start[1], end[1]], 'b-')\n",
        "\n",
        "    ax.set_title(f\"Best Route: {best_length:.2f} meters\\nPath: {' -> '.join([facilities[i] for i in best_solution])}\")\n",
        "    ax.set_xlabel(\"X\")\n",
        "    ax.set_ylabel(\"Y\")\n",
        "    ax.grid(True)\n",
        "    plt.show()\n"
      ],
      "metadata": {
        "id": "fTTID-ZOl9ur"
      },
      "execution_count": null,
      "outputs": []
    },
    {
      "cell_type": "markdown",
      "source": [
        "GUI Widgets"
      ],
      "metadata": {
        "id": "rAjOnJO2mES1"
      }
    },
    {
      "cell_type": "code",
      "source": [
        "colony_size_slider = IntSlider(min=2, max=50, value=10, description='Colony Size')\n",
        "max_iters_slider = IntSlider(min=1, max=100, value=20, description='Max Iterations')\n",
        "limit_slider = IntSlider(min=1, max=20, value=5, description='Limit')\n",
        "priority_weight_slider = FloatSlider(min=0.0, max=2.0, value=1.0, description='Priority Weight')\n",
        "run_button = Button(description=\"Run ABC\")\n",
        "\n",
        "output = Output()\n",
        "\n",
        "def on_button_clicked(b):\n",
        "    with output:\n",
        "        clear_output(wait=True)\n",
        "        print(\"Running ABC...\")\n",
        "        start_time = time.time()\n",
        "        best_solution, best_length = run_abc(\n",
        "            colony_size=colony_size_slider.value,\n",
        "            max_iters=max_iters_slider.value,\n",
        "            limit=limit_slider.value,\n",
        "            priority_weight=priority_weight_slider.value\n",
        "        )\n",
        "        print(f\"ABC finished in {time.time() - start_time:.2f} seconds.\")\n",
        "        plot_solution(best_solution, best_length)\n",
        "\n",
        "run_button.on_click(on_button_clicked)"
      ],
      "metadata": {
        "id": "nV5d97JlmCdp"
      },
      "execution_count": null,
      "outputs": []
    },
    {
      "cell_type": "markdown",
      "source": [
        "Display GUI"
      ],
      "metadata": {
        "id": "jVxFOXiwmJjF"
      }
    },
    {
      "cell_type": "code",
      "source": [
        "display(VBox([\n",
        "    colony_size_slider, max_iters_slider, limit_slider,\n",
        "    priority_weight_slider, run_button, output\n",
        "]))"
      ],
      "metadata": {
        "colab": {
          "base_uri": "https://localhost:8080/",
          "height": 797,
          "referenced_widgets": [
            "b5164a3f9db6451abb2a59d33befee6c",
            "0dde9e4050f045d9ae6f102d21a9819e",
            "8fae687a614e4015a9232dd525477f4d",
            "d984a801eb414091bb4591e513e22c1f",
            "910b1fde63924b4386b7ae59a2ba1b8e",
            "72ce56577c644665ae35035ffdce1ebe",
            "094a74d1f5ae4225ad339dd46515c678",
            "95645bfdd80348fdb0315b72e75f814a",
            "4d4bccd27d7546c2a66c34c5c4dd6b59",
            "c0377450299444e19202421d2fcc86a4",
            "203bfe948a0644f98622251d24f40d7c",
            "97e1378f02ed4341b41d662df88d4c4e",
            "62bc3aee12e942609e4b2133a0422cea",
            "18677670c87f4e17b6f21637971ca1c2",
            "6dfd727cbd9f41af9482977220844289",
            "6a6a3e95a91744c1b0f964acb7e2c405",
            "bb5db2c550c4428daec6d6a21d40bc01",
            "ebe5d306b05b408a90648f1a9048ca92",
            "8c471ac779f34f0baeff3cbdb2429ed4"
          ]
        },
        "id": "OxD3hRwtmIcu",
        "outputId": "1d60830b-6043-463b-ad23-57b7fc945e30"
      },
      "execution_count": null,
      "outputs": [
        {
          "output_type": "display_data",
          "data": {
            "text/plain": [
              "VBox(children=(IntSlider(value=10, description='Colony Size', max=50, min=2), IntSlider(value=20, description=…"
            ],
            "application/vnd.jupyter.widget-view+json": {
              "version_major": 2,
              "version_minor": 0,
              "model_id": "b5164a3f9db6451abb2a59d33befee6c"
            }
          },
          "metadata": {}
        }
      ]
    },
    {
      "cell_type": "code",
      "source": [],
      "metadata": {
        "id": "Qnwy4j7EmMU_"
      },
      "execution_count": null,
      "outputs": []
    }
  ]
}